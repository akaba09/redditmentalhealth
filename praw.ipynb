{
 "cells": [
  {
   "cell_type": "code",
   "execution_count": 1,
   "id": "9c4e7ce3-e1d7-4735-803a-28a063480615",
   "metadata": {
    "tags": []
   },
   "outputs": [
    {
     "name": "stdout",
     "output_type": "stream",
     "text": [
      "Collecting praw\n",
      "  Downloading praw-7.7.1-py3-none-any.whl (191 kB)\n",
      "\u001b[2K     \u001b[90m━━━━━━━━━━━━━━━━━━━━━━━━━━━━━━━━━━━━━━━\u001b[0m \u001b[32m191.0/191.0 kB\u001b[0m \u001b[31m7.3 MB/s\u001b[0m eta \u001b[36m0:00:00\u001b[0m\n",
      "\u001b[?25hCollecting update-checker>=0.18\n",
      "  Downloading update_checker-0.18.0-py3-none-any.whl (7.0 kB)\n",
      "Requirement already satisfied: websocket-client>=0.54.0 in /opt/conda/lib/python3.9/site-packages (from praw) (1.5.1)\n",
      "Collecting prawcore<3,>=2.1\n",
      "  Downloading prawcore-2.3.0-py3-none-any.whl (16 kB)\n",
      "Requirement already satisfied: requests<3.0,>=2.6.0 in /opt/conda/lib/python3.9/site-packages (from prawcore<3,>=2.1->praw) (2.28.1)\n",
      "Requirement already satisfied: certifi>=2017.4.17 in /opt/conda/lib/python3.9/site-packages (from requests<3.0,>=2.6.0->prawcore<3,>=2.1->praw) (2022.12.7)\n",
      "Requirement already satisfied: urllib3<1.27,>=1.21.1 in /opt/conda/lib/python3.9/site-packages (from requests<3.0,>=2.6.0->prawcore<3,>=2.1->praw) (1.26.12)\n",
      "Requirement already satisfied: charset-normalizer<3,>=2 in /opt/conda/lib/python3.9/site-packages (from requests<3.0,>=2.6.0->prawcore<3,>=2.1->praw) (2.1.1)\n",
      "Requirement already satisfied: idna<4,>=2.5 in /opt/conda/lib/python3.9/site-packages (from requests<3.0,>=2.6.0->prawcore<3,>=2.1->praw) (3.3)\n",
      "Installing collected packages: update-checker, prawcore, praw\n",
      "Successfully installed praw-7.7.1 prawcore-2.3.0 update-checker-0.18.0\n",
      "Note: you may need to restart the kernel to use updated packages.\n"
     ]
    }
   ],
   "source": [
    "pip install praw\n"
   ]
  },
  {
   "cell_type": "code",
   "execution_count": 2,
   "id": "2b93e835-8ffa-431b-8a3b-1db96c8ba818",
   "metadata": {
    "tags": []
   },
   "outputs": [],
   "source": [
    "import praw\n",
    "import pandas as pd\n",
    "import datetime as dt"
   ]
  },
  {
   "cell_type": "markdown",
   "id": "b28c14a1-1f71-4d65-8e7b-1b1c3c38d710",
   "metadata": {},
   "source": [
    "## Reddit credentials"
   ]
  },
  {
   "cell_type": "code",
   "execution_count": null,
   "id": "ebb78e6c-1fc4-4d86-a474-ae4220d3509b",
   "metadata": {
    "tags": []
   },
   "outputs": [],
   "source": [
    "reddit = praw.Reddit(client_id='my client id',\n",
    "                     client_secret='my client secret',\n",
    "                     user_agent='my user agent')"
   ]
  },
  {
   "cell_type": "markdown",
   "id": "41d45773-f342-40a2-aabe-f4dcc9f341fc",
   "metadata": {},
   "source": [
    "## Set up reddit object"
   ]
  },
  {
   "cell_type": "code",
   "execution_count": 4,
   "id": "6fa7995d-4d53-4cf2-b7a6-65aae42e083b",
   "metadata": {
    "tags": []
   },
   "outputs": [],
   "source": [
    "subreddit = reddit.subreddit(\"depression\")"
   ]
  },
  {
   "cell_type": "markdown",
   "id": "14a0d60e-a171-4b3b-bfb4-39badcacf293",
   "metadata": {},
   "source": [
    "### Create dataframe object"
   ]
  },
  {
   "cell_type": "code",
   "execution_count": 38,
   "id": "d8828899-ba15-452c-9da3-28c01bf6f40f",
   "metadata": {
    "tags": []
   },
   "outputs": [],
   "source": [
    "df = pd.DataFrame()\n",
    "dates=[]\n",
    "posts=[]\n",
    "ids = []"
   ]
  },
  {
   "cell_type": "markdown",
   "id": "f2867f1a-946b-4a07-9879-7930c41a0f86",
   "metadata": {},
   "source": [
    "### Pull reddit submissions"
   ]
  },
  {
   "cell_type": "code",
   "execution_count": 45,
   "id": "bfa36e3b-3282-495a-9f78-8b21c408c811",
   "metadata": {
    "tags": []
   },
   "outputs": [],
   "source": [
    "for submission in subreddit.new(limit=1000):\n",
    "    #ids.append(submission.id)\n",
    "    #titles.append(submission.title)\n",
    "    dates.append(submission.created_utc)\n",
    "    posts.append(submission.selftext) #upvotes\n",
    "    ids.append(submission.id)\n",
    "    "
   ]
  },
  {
   "cell_type": "markdown",
   "id": "40553c23-2649-42d6-b3b4-f30216f46ad8",
   "metadata": {},
   "source": [
    "#### Update dataframe"
   ]
  },
  {
   "cell_type": "code",
   "execution_count": 46,
   "id": "83e36782-2eb5-45c3-bfcb-47182174fcd0",
   "metadata": {
    "tags": []
   },
   "outputs": [],
   "source": [
    "df['date'] = dates\n",
    "df['post'] = posts\n",
    "df['id'] = ids"
   ]
  },
  {
   "cell_type": "code",
   "execution_count": 47,
   "id": "a15b8b3a-32f2-45db-9f86-5ff5b71000fa",
   "metadata": {
    "tags": []
   },
   "outputs": [],
   "source": [
    "#convert date from unix to month-day-year\n",
    "df['date'] = df['date'].apply(lambda x: dt.datetime.utcfromtimestamp(x).strftime('%m-%d-%Y'))"
   ]
  },
  {
   "cell_type": "code",
   "execution_count": 48,
   "id": "70784ec8-9f62-4c1a-abd1-943d8dbb2127",
   "metadata": {
    "tags": []
   },
   "outputs": [
    {
     "data": {
      "text/html": [
       "<div>\n",
       "<style scoped>\n",
       "    .dataframe tbody tr th:only-of-type {\n",
       "        vertical-align: middle;\n",
       "    }\n",
       "\n",
       "    .dataframe tbody tr th {\n",
       "        vertical-align: top;\n",
       "    }\n",
       "\n",
       "    .dataframe thead th {\n",
       "        text-align: right;\n",
       "    }\n",
       "</style>\n",
       "<table border=\"1\" class=\"dataframe\">\n",
       "  <thead>\n",
       "    <tr style=\"text-align: right;\">\n",
       "      <th></th>\n",
       "      <th>date</th>\n",
       "      <th>post</th>\n",
       "      <th>id</th>\n",
       "    </tr>\n",
       "  </thead>\n",
       "  <tbody>\n",
       "    <tr>\n",
       "      <th>1981</th>\n",
       "      <td>07-13-2023</td>\n",
       "      <td>I'm a screw up I just can't think the way ever...</td>\n",
       "      <td>14ybpkq</td>\n",
       "    </tr>\n",
       "    <tr>\n",
       "      <th>1982</th>\n",
       "      <td>07-13-2023</td>\n",
       "      <td>Not in any sense that means anything anyway. I...</td>\n",
       "      <td>14ybm57</td>\n",
       "    </tr>\n",
       "    <tr>\n",
       "      <th>1983</th>\n",
       "      <td>07-13-2023</td>\n",
       "      <td>At the start of the year I had gotten out of a...</td>\n",
       "      <td>14ybi0y</td>\n",
       "    </tr>\n",
       "    <tr>\n",
       "      <th>1984</th>\n",
       "      <td>07-13-2023</td>\n",
       "      <td>It’s so bad I had to quit my job I just starte...</td>\n",
       "      <td>14yb3ce</td>\n",
       "    </tr>\n",
       "    <tr>\n",
       "      <th>1985</th>\n",
       "      <td>07-13-2023</td>\n",
       "      <td>I’ve been depressed for 7 years. Persistent de...</td>\n",
       "      <td>14yaucw</td>\n",
       "    </tr>\n",
       "  </tbody>\n",
       "</table>\n",
       "</div>"
      ],
      "text/plain": [
       "            date                                               post       id\n",
       "1981  07-13-2023  I'm a screw up I just can't think the way ever...  14ybpkq\n",
       "1982  07-13-2023  Not in any sense that means anything anyway. I...  14ybm57\n",
       "1983  07-13-2023  At the start of the year I had gotten out of a...  14ybi0y\n",
       "1984  07-13-2023  It’s so bad I had to quit my job I just starte...  14yb3ce\n",
       "1985  07-13-2023  I’ve been depressed for 7 years. Persistent de...  14yaucw"
      ]
     },
     "execution_count": 48,
     "metadata": {},
     "output_type": "execute_result"
    }
   ],
   "source": [
    "df.tail()"
   ]
  },
  {
   "cell_type": "code",
   "execution_count": 99,
   "id": "6a3ef9aa-e617-40fa-8e3f-eb1681f3a384",
   "metadata": {
    "tags": []
   },
   "outputs": [],
   "source": [
    "df.to_csv(\"depression_07172023.csv\", index = False)"
   ]
  },
  {
   "cell_type": "markdown",
   "id": "c49d1a51-c80f-4ec2-8f18-e8fbabc0aa58",
   "metadata": {},
   "source": [
    "## Trying to get older posts"
   ]
  },
  {
   "cell_type": "markdown",
   "id": "1f7eb711-c65d-498c-ac6b-89f8874cdd57",
   "metadata": {},
   "source": [
    "Trying to pull posts before the last post from the previous post. The ID format is this from Reddit documentation: \n",
    "\n",
    "A fullname is a combination of a thing's type (e.g. Link) and its unique ID which forms a compact encoding of a globally unique ID on reddit.\n",
    "\n",
    "[Fullnames start with the type prefix for the object's type, followed by the thing's unique ID in base 36. For example, t3_15bfi0.](https://www.reddit.com/dev/api/#fullnames)"
   ]
  },
  {
   "cell_type": "code",
   "execution_count": 116,
   "id": "81b2f96c-3547-4766-9999-6d48471977c4",
   "metadata": {
    "tags": []
   },
   "outputs": [],
   "source": [
    "older_posts = subreddit.new(limit=1000, params={'before': 't1_14yaucw'})"
   ]
  },
  {
   "cell_type": "code",
   "execution_count": 117,
   "id": "53ced598-2b6f-4351-8de9-6ff4c8c0dac1",
   "metadata": {
    "tags": []
   },
   "outputs": [],
   "source": [
    "older_df = pd.DataFrame()\n",
    "older_dates=[]\n",
    "older_posts=[]\n",
    "older_ids = []"
   ]
  },
  {
   "cell_type": "code",
   "execution_count": 118,
   "id": "252dd1ae-7007-4dc9-8b0c-1e83cd4a9310",
   "metadata": {
    "tags": []
   },
   "outputs": [],
   "source": [
    "for submission in older_posts:\n",
    "    #ids.append(submission.id)\n",
    "    #titles.append(submission.title)\n",
    "    older_dates.append(submission.created_utc)\n",
    "    older_posts.append(submission.selftext) #upvotes\n",
    "    older_ids.append(submission.id)\n"
   ]
  },
  {
   "cell_type": "code",
   "execution_count": 119,
   "id": "52e70468-b9ab-4eb3-aace-9aed5b682f41",
   "metadata": {
    "tags": []
   },
   "outputs": [],
   "source": [
    "older_df['date'] = older_dates\n",
    "older_df['post'] = older_posts\n",
    "older_df['id'] = older_ids"
   ]
  },
  {
   "cell_type": "code",
   "execution_count": 120,
   "id": "6641b31b-2e42-42c7-a48a-b88c99282245",
   "metadata": {
    "tags": []
   },
   "outputs": [
    {
     "data": {
      "text/html": [
       "<div>\n",
       "<style scoped>\n",
       "    .dataframe tbody tr th:only-of-type {\n",
       "        vertical-align: middle;\n",
       "    }\n",
       "\n",
       "    .dataframe tbody tr th {\n",
       "        vertical-align: top;\n",
       "    }\n",
       "\n",
       "    .dataframe thead th {\n",
       "        text-align: right;\n",
       "    }\n",
       "</style>\n",
       "<table border=\"1\" class=\"dataframe\">\n",
       "  <thead>\n",
       "    <tr style=\"text-align: right;\">\n",
       "      <th></th>\n",
       "      <th>date</th>\n",
       "      <th>post</th>\n",
       "      <th>id</th>\n",
       "    </tr>\n",
       "  </thead>\n",
       "  <tbody>\n",
       "  </tbody>\n",
       "</table>\n",
       "</div>"
      ],
      "text/plain": [
       "Empty DataFrame\n",
       "Columns: [date, post, id]\n",
       "Index: []"
      ]
     },
     "execution_count": 120,
     "metadata": {},
     "output_type": "execute_result"
    }
   ],
   "source": [
    "older_df.tail()"
   ]
  }
 ],
 "metadata": {
  "kernelspec": {
   "display_name": "Python 3 (ipykernel)",
   "language": "python",
   "name": "python3"
  },
  "language_info": {
   "codemirror_mode": {
    "name": "ipython",
    "version": 3
   },
   "file_extension": ".py",
   "mimetype": "text/x-python",
   "name": "python",
   "nbconvert_exporter": "python",
   "pygments_lexer": "ipython3",
   "version": "3.8.8"
  }
 },
 "nbformat": 4,
 "nbformat_minor": 5
}
