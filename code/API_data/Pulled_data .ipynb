{
 "cells": [
  {
   "cell_type": "code",
   "execution_count": 21,
   "id": "6f387ec9",
   "metadata": {},
   "outputs": [
    {
     "name": "stdout",
     "output_type": "stream",
     "text": [
      "Requirement already satisfied: praw in /opt/conda/lib/python3.8/site-packages (7.7.1)\n",
      "Requirement already satisfied: prawcore<3,>=2.1 in /opt/conda/lib/python3.8/site-packages (from praw) (2.3.0)\n",
      "Requirement already satisfied: update-checker>=0.18 in /opt/conda/lib/python3.8/site-packages (from praw) (0.18.0)\n",
      "Requirement already satisfied: websocket-client>=0.54.0 in /opt/conda/lib/python3.8/site-packages (from praw) (0.59.0)\n",
      "Requirement already satisfied: requests<3.0,>=2.6.0 in /opt/conda/lib/python3.8/site-packages (from prawcore<3,>=2.1->praw) (2.31.0)\n",
      "Requirement already satisfied: six in /opt/conda/lib/python3.8/site-packages (from websocket-client>=0.54.0->praw) (1.15.0)\n",
      "Requirement already satisfied: charset-normalizer<4,>=2 in /opt/conda/lib/python3.8/site-packages (from requests<3.0,>=2.6.0->prawcore<3,>=2.1->praw) (3.1.0)\n",
      "Requirement already satisfied: idna<4,>=2.5 in /opt/conda/lib/python3.8/site-packages (from requests<3.0,>=2.6.0->prawcore<3,>=2.1->praw) (2.10)\n",
      "Requirement already satisfied: urllib3<3,>=1.21.1 in /opt/conda/lib/python3.8/site-packages (from requests<3.0,>=2.6.0->prawcore<3,>=2.1->praw) (1.26.16)\n",
      "Requirement already satisfied: certifi>=2017.4.17 in /opt/conda/lib/python3.8/site-packages (from requests<3.0,>=2.6.0->prawcore<3,>=2.1->praw) (2022.12.7)\n",
      "\n",
      "\u001b[1m[\u001b[0m\u001b[34;49mnotice\u001b[0m\u001b[1;39;49m]\u001b[0m\u001b[39;49m A new release of pip is available: \u001b[0m\u001b[31;49m23.1.2\u001b[0m\u001b[39;49m -> \u001b[0m\u001b[32;49m23.2.1\u001b[0m\n",
      "\u001b[1m[\u001b[0m\u001b[34;49mnotice\u001b[0m\u001b[1;39;49m]\u001b[0m\u001b[39;49m To update, run: \u001b[0m\u001b[32;49mpip install --upgrade pip\u001b[0m\n",
      "Note: you may need to restart the kernel to use updated packages.\n"
     ]
    }
   ],
   "source": [
    "pip install praw"
   ]
  },
  {
   "cell_type": "code",
   "execution_count": 22,
   "id": "33ce8beb",
   "metadata": {},
   "outputs": [],
   "source": [
    "import praw\n",
    "import pandas as pd\n",
    "import datetime as dt"
   ]
  },
  {
   "cell_type": "markdown",
   "id": "aba0c0c2",
   "metadata": {},
   "source": [
    "##  Reddit Credentials "
   ]
  },
  {
   "cell_type": "code",
   "execution_count": 23,
   "id": "f9d7f3be",
   "metadata": {},
   "outputs": [],
   "source": [
    "#reddit = praw.Reddit(client_id='my client id',\n",
    "                     #client_secret='my client secret',\n",
    "                     #user_agent='my user agent')\n",
    "\n",
    "\n",
    "\n",
    "reddit = praw.Reddit(client_id='[add a id]',\n",
    "                     client_secret='[add passcode]',\n", 
    "                     user_agent='add yours"
   ]
  },
  {
   "cell_type": "markdown",
   "id": "afe35405",
   "metadata": {},
   "source": [
    "## Set up reddit parameter "
   ]
  },
  {
   "cell_type": "code",
   "execution_count": 24,
   "id": "cebb785e",
   "metadata": {},
   "outputs": [],
   "source": [
    "subreddit = reddit.subreddit(\"depression\")"
   ]
  },
  {
   "cell_type": "markdown",
   "id": "111a6b7f",
   "metadata": {},
   "source": [
    "### Create dataframe parameters"
   ]
  },
  {
   "cell_type": "code",
   "execution_count": 25,
   "id": "848a1f2d",
   "metadata": {},
   "outputs": [],
   "source": [
    "df = pd.DataFrame()\n",
    "dates=[]\n",
    "posts=[]\n",
    "ids=[]"
   ]
  },
  {
   "cell_type": "markdown",
   "id": "83fc539d",
   "metadata": {},
   "source": [
    "### Pull reddit submissions"
   ]
  },
  {
   "cell_type": "code",
   "execution_count": 26,
   "id": "4e6b1a78",
   "metadata": {},
   "outputs": [],
   "source": [
    "for submission in subreddit.new(limit=1000):\n",
    "    \n",
    "    #ids.append(submissin.id)\n",
    "    #titles.append(submission.title)\n",
    "    dates.append(submission.created_utc)\n",
    "    posts.append(submission.selftext) #upvotes\n",
    "    ids.append(submission.id)"
   ]
  },
  {
   "cell_type": "markdown",
   "id": "34a5a26e",
   "metadata": {},
   "source": [
    "#### Update dataframe"
   ]
  },
  {
   "cell_type": "code",
   "execution_count": 27,
   "id": "c0166b7d",
   "metadata": {},
   "outputs": [],
   "source": [
    "df['date'] = dates\n",
    "df['post'] = posts\n",
    "df['id'] = ids"
   ]
  },
  {
   "cell_type": "code",
   "execution_count": 28,
   "id": "e56677cf",
   "metadata": {},
   "outputs": [],
   "source": [
    "#convert data from unix to month-day-year\n",
    "df['date'] = df['date'].apply(lambda x: dt.datetime.utcfromtimestamp(x).strftime('%m-%d-%Y'))"
   ]
  },
  {
   "cell_type": "code",
   "execution_count": 29,
   "id": "5a69cb4a",
   "metadata": {},
   "outputs": [
    {
     "data": {
      "text/html": [
       "<div>\n",
       "<style scoped>\n",
       "    .dataframe tbody tr th:only-of-type {\n",
       "        vertical-align: middle;\n",
       "    }\n",
       "\n",
       "    .dataframe tbody tr th {\n",
       "        vertical-align: top;\n",
       "    }\n",
       "\n",
       "    .dataframe thead th {\n",
       "        text-align: right;\n",
       "    }\n",
       "</style>\n",
       "<table border=\"1\" class=\"dataframe\">\n",
       "  <thead>\n",
       "    <tr style=\"text-align: right;\">\n",
       "      <th></th>\n",
       "      <th>date</th>\n",
       "      <th>post</th>\n",
       "      <th>id</th>\n",
       "    </tr>\n",
       "  </thead>\n",
       "  <tbody>\n",
       "    <tr>\n",
       "      <th>982</th>\n",
       "      <td>07-23-2023</td>\n",
       "      <td>I don’t care about my future, I don’t care abo...</td>\n",
       "      <td>157qif2</td>\n",
       "    </tr>\n",
       "    <tr>\n",
       "      <th>983</th>\n",
       "      <td>07-23-2023</td>\n",
       "      <td>I feel like I’m losing my mind lately. Pretend...</td>\n",
       "      <td>157qd2o</td>\n",
       "    </tr>\n",
       "    <tr>\n",
       "      <th>984</th>\n",
       "      <td>07-23-2023</td>\n",
       "      <td>My name is Matthew, I'm 17, slightly fit, but ...</td>\n",
       "      <td>157qb5f</td>\n",
       "    </tr>\n",
       "    <tr>\n",
       "      <th>985</th>\n",
       "      <td>07-23-2023</td>\n",
       "      <td>I feel incredibly guilty for my anxiety and pt...</td>\n",
       "      <td>157q90g</td>\n",
       "    </tr>\n",
       "    <tr>\n",
       "      <th>986</th>\n",
       "      <td>07-23-2023</td>\n",
       "      <td>Fuck being stuck in a black hole. Everyone thi...</td>\n",
       "      <td>157pti0</td>\n",
       "    </tr>\n",
       "  </tbody>\n",
       "</table>\n",
       "</div>"
      ],
      "text/plain": [
       "           date                                               post       id\n",
       "982  07-23-2023  I don’t care about my future, I don’t care abo...  157qif2\n",
       "983  07-23-2023  I feel like I’m losing my mind lately. Pretend...  157qd2o\n",
       "984  07-23-2023  My name is Matthew, I'm 17, slightly fit, but ...  157qb5f\n",
       "985  07-23-2023  I feel incredibly guilty for my anxiety and pt...  157q90g\n",
       "986  07-23-2023  Fuck being stuck in a black hole. Everyone thi...  157pti0"
      ]
     },
     "execution_count": 29,
     "metadata": {},
     "output_type": "execute_result"
    }
   ],
   "source": [
    "df.tail()"
   ]
  },
  {
   "cell_type": "code",
   "execution_count": 31,
   "id": "70063877",
   "metadata": {},
   "outputs": [],
   "source": [
    "df.to_csv(\"post23_depression.csv\", index = False)"
   ]
  }
 ],
 "metadata": {
  "kernelspec": {
   "display_name": "Python 3 (ipykernel)",
   "language": "python",
   "name": "python3"
  },
  "language_info": {
   "codemirror_mode": {
    "name": "ipython",
    "version": 3
   },
   "file_extension": ".py",
   "mimetype": "text/x-python",
   "name": "python",
   "nbconvert_exporter": "python",
   "pygments_lexer": "ipython3",
   "version": "3.8.8"
  }
 },
 "nbformat": 4,
 "nbformat_minor": 5
}
