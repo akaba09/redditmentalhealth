{
 "cells": [
  {
   "cell_type": "markdown",
   "id": "cf7b5c29",
   "metadata": {},
   "source": [
    "# Using Zero-Shot Classification for Sentiment Analysis"
   ]
  },
  {
   "cell_type": "markdown",
   "id": "279d4689-bbda-4375-985d-de80eac7b2c9",
   "metadata": {},
   "source": [
    "## 1. Load in your libraries"
   ]
  },
  {
   "cell_type": "code",
   "execution_count": null,
   "id": "08b09e15-7541-4a4d-9b85-6729f9abab8c",
   "metadata": {},
   "outputs": [],
   "source": [
    "# load hugging face library and model\n",
    "\n",
    "\n",
    "from transformers import pipeline\n",
    "classifier = pipeline(\"zero-shot-classification\", model=\"MoritzLaurer/DeBERTa-v3-base-mnli-fever-anli\")\n",
    "\n",
    "# load in pandas and numpy for data manipulation\n",
    "import pandas as pd\n",
    "import numpy as np"
   ]
  },
  {
   "cell_type": "markdown",
   "id": "8c7f4855",
   "metadata": {},
   "source": [
    "## 2. Read in your data"
   ]
  },
  {
   "cell_type": "code",
   "execution_count": 73,
   "id": "73805cdb",
   "metadata": {},
   "outputs": [],
   "source": [
    "# reading in data \n",
    "df = pd.read_csv(\"https://raw.githubusercontent.com/akaba09/redditmentalhealth/main/files/dep.csv\")"
   ]
  },
  {
   "cell_type": "code",
   "execution_count": 11,
   "id": "4444fe3b-8ab4-4384-89f5-5f06db23f247",
   "metadata": {},
   "outputs": [
    {
     "data": {
      "text/html": [
       "<div>\n",
       "<style scoped>\n",
       "    .dataframe tbody tr th:only-of-type {\n",
       "        vertical-align: middle;\n",
       "    }\n",
       "\n",
       "    .dataframe tbody tr th {\n",
       "        vertical-align: top;\n",
       "    }\n",
       "\n",
       "    .dataframe thead th {\n",
       "        text-align: right;\n",
       "    }\n",
       "</style>\n",
       "<table border=\"1\" class=\"dataframe\">\n",
       "  <thead>\n",
       "    <tr style=\"text-align: right;\">\n",
       "      <th></th>\n",
       "      <th>subreddit</th>\n",
       "      <th>date</th>\n",
       "      <th>text</th>\n",
       "      <th>covid period</th>\n",
       "      <th>gender</th>\n",
       "    </tr>\n",
       "  </thead>\n",
       "  <tbody>\n",
       "    <tr>\n",
       "      <th>0</th>\n",
       "      <td>depression</td>\n",
       "      <td>2019-08-28</td>\n",
       "      <td>the sun hasnt even came up and im f ready to g...</td>\n",
       "      <td>pre</td>\n",
       "      <td>female</td>\n",
       "    </tr>\n",
       "    <tr>\n",
       "      <th>1</th>\n",
       "      <td>depression</td>\n",
       "      <td>2019-08-28</td>\n",
       "      <td>i am just so exhausted im f currently in an in...</td>\n",
       "      <td>pre</td>\n",
       "      <td>female</td>\n",
       "    </tr>\n",
       "    <tr>\n",
       "      <th>2</th>\n",
       "      <td>depression</td>\n",
       "      <td>2019-10-08</td>\n",
       "      <td>not sure if i am depressed burnt out or if soc...</td>\n",
       "      <td>pre</td>\n",
       "      <td>female</td>\n",
       "    </tr>\n",
       "    <tr>\n",
       "      <th>3</th>\n",
       "      <td>depression</td>\n",
       "      <td>2019-10-08</td>\n",
       "      <td>hi this is my first post just wanted to talk t...</td>\n",
       "      <td>pre</td>\n",
       "      <td>female</td>\n",
       "    </tr>\n",
       "    <tr>\n",
       "      <th>4</th>\n",
       "      <td>depression</td>\n",
       "      <td>2018-11-07</td>\n",
       "      <td>i f felt like i had my shit together at now i ...</td>\n",
       "      <td>pre</td>\n",
       "      <td>female</td>\n",
       "    </tr>\n",
       "  </tbody>\n",
       "</table>\n",
       "</div>"
      ],
      "text/plain": [
       "    subreddit        date                                               text  \\\n",
       "0  depression  2019-08-28  the sun hasnt even came up and im f ready to g...   \n",
       "1  depression  2019-08-28  i am just so exhausted im f currently in an in...   \n",
       "2  depression  2019-10-08  not sure if i am depressed burnt out or if soc...   \n",
       "3  depression  2019-10-08  hi this is my first post just wanted to talk t...   \n",
       "4  depression  2018-11-07  i f felt like i had my shit together at now i ...   \n",
       "\n",
       "  covid period  gender  \n",
       "0          pre  female  \n",
       "1          pre  female  \n",
       "2          pre  female  \n",
       "3          pre  female  \n",
       "4          pre  female  "
      ]
     },
     "execution_count": 11,
     "metadata": {},
     "output_type": "execute_result"
    }
   ],
   "source": [
    "df.head()"
   ]
  },
  {
   "cell_type": "markdown",
   "id": "ae07dc6e-3d3c-498f-8371-39cce23a0fe4",
   "metadata": {},
   "source": [
    "## 3.  Create a list of classes that you want to use for predicting sentiment"
   ]
  },
  {
   "cell_type": "code",
   "execution_count": 74,
   "id": "97c8004d",
   "metadata": {},
   "outputs": [],
   "source": [
    "# Creating a list of emotions to use as labels\n",
    "text_labels = [\"anticipation\", \"anger\", \"disgust\", \"fear\", \"joy\", \"trust\"]"
   ]
  },
  {
   "cell_type": "markdown",
   "id": "bb3f4944-12e8-451e-ac7c-240fab94ff6d",
   "metadata": {},
   "source": [
    "## 4. Run the model prediction on one piece of text first\n"
   ]
  },
  {
   "cell_type": "code",
   "execution_count": 75,
   "id": "b14917d5-32b5-4564-8b08-dce1a378a0c2",
   "metadata": {},
   "outputs": [],
   "source": [
    "# example text\n",
    "sample_text = \" still have depression symptoms not as bad as they used to be in fact my therapist says im improving a lot but for the past years ive been stuck in this state of emotional numbness feeling disconnected from myself others and the world and time doesnt seem to be passing\"\n"
   ]
  },
  {
   "cell_type": "code",
   "execution_count": 20,
   "id": "107cde9e-b486-4050-9f3d-93aa4f6a06aa",
   "metadata": {},
   "outputs": [
    {
     "data": {
      "text/plain": [
       "{'sequence': ' still have depression symptoms not as bad as they used to be in fact my therapist says im improving a lot but for the past years ive been stuck in this state of emotional numbness feeling disconnected from myself others and the world and time doesnt seem to be passing',\n",
       " 'labels': ['anticipation', 'trust', 'joy', 'disgust', 'fear', 'anger'],\n",
       " 'scores': [0.6039842963218689,\n",
       "  0.1163715273141861,\n",
       "  0.074860118329525,\n",
       "  0.07247171550989151,\n",
       "  0.0699692890048027,\n",
       "  0.0623430535197258]}"
      ]
     },
     "execution_count": 20,
     "metadata": {},
     "output_type": "execute_result"
    }
   ],
   "source": [
    "# run prediction\n",
    "classifier(sample_text, text_labels, multi_label = False)"
   ]
  },
  {
   "cell_type": "markdown",
   "id": "9ee0fea5",
   "metadata": {},
   "source": [
    "## 5. Write a custom function to make predictions on the entire dataset, and include the labels as part of the dataframe"
   ]
  },
  {
   "cell_type": "code",
   "execution_count": 67,
   "id": "ca58bb2e",
   "metadata": {},
   "outputs": [],
   "source": [
    "def predict_sentiment(df, text_column, text_labels):\n",
    "    \"\"\"\n",
    "    Predict the sentiment for a piece of text in a dataframe.\n",
    "\n",
    "    Args:\n",
    "        df (pandas.DataFrame): A DataFrame containing the text data to perform sentiment analysis on.\n",
    "        text_column (str): The name of the column in the DataFrame that contains the text data.\n",
    "        text_labels (list): A list of text labels for sentiment classification.\n",
    "\n",
    "    Returns:\n",
    "        pandas.DataFrame: A DataFrame containing the original data with additional columns for the predicted \n",
    "        sentiment label and corresponding score.\n",
    "\n",
    "    Raises:\n",
    "        ValueError: If the DataFrame (df) does not contain the specified text_column.\n",
    "\n",
    "    Example:\n",
    "        # Assuming df is a pandas DataFrame and text_labels is a list of text labels\n",
    "        result = predict_sentiment(df, \"text_column_name\", text_labels)\n",
    "    \"\"\"\n",
    "    \n",
    "    result_list = []\n",
    "    for index, row in df.iterrows():\n",
    "        sequence_to_classify = row[text_column]\n",
    "        result = classifier(sequence_to_classify, text_labels, multi_label = False)\n",
    "        result['sentiment'] = result['labels'][0]\n",
    "        result['score'] = result['scores'][0]\n",
    "        result_list.append(result)\n",
    "    result_df = pd.DataFrame(result_list)[['sequence', 'sentiment', 'score']]\n",
    "    result_df = pd.merge(df, result_df, left_on = \"text\", right_on=\"sequence\", how = \"left\")\n",
    "    return result_df"
   ]
  },
  {
   "cell_type": "code",
   "execution_count": 68,
   "id": "178017a1",
   "metadata": {},
   "outputs": [],
   "source": [
    "# run prediction on df\n",
    "results_df = predict_sentiment(df=df, text_column =\"text\", text_labels= text_labels)"
   ]
  },
  {
   "cell_type": "code",
   "execution_count": 71,
   "id": "5e66db29-5d8a-4d2d-a98c-fbaca5009ed6",
   "metadata": {},
   "outputs": [
    {
     "data": {
      "text/html": [
       "<div>\n",
       "<style scoped>\n",
       "    .dataframe tbody tr th:only-of-type {\n",
       "        vertical-align: middle;\n",
       "    }\n",
       "\n",
       "    .dataframe tbody tr th {\n",
       "        vertical-align: top;\n",
       "    }\n",
       "\n",
       "    .dataframe thead th {\n",
       "        text-align: right;\n",
       "    }\n",
       "</style>\n",
       "<table border=\"1\" class=\"dataframe\">\n",
       "  <thead>\n",
       "    <tr style=\"text-align: right;\">\n",
       "      <th></th>\n",
       "      <th>subreddit</th>\n",
       "      <th>date</th>\n",
       "      <th>text</th>\n",
       "      <th>covid period</th>\n",
       "      <th>gender</th>\n",
       "      <th>sequence</th>\n",
       "      <th>sentiment</th>\n",
       "      <th>score</th>\n",
       "    </tr>\n",
       "  </thead>\n",
       "  <tbody>\n",
       "    <tr>\n",
       "      <th>0</th>\n",
       "      <td>depression</td>\n",
       "      <td>2019-08-28</td>\n",
       "      <td>the sun hasnt even came up and im f ready to g...</td>\n",
       "      <td>pre</td>\n",
       "      <td>female</td>\n",
       "      <td>the sun hasnt even came up and im f ready to g...</td>\n",
       "      <td>anticipation</td>\n",
       "      <td>0.858212</td>\n",
       "    </tr>\n",
       "    <tr>\n",
       "      <th>1</th>\n",
       "      <td>depression</td>\n",
       "      <td>2019-08-28</td>\n",
       "      <td>i am just so exhausted im f currently in an in...</td>\n",
       "      <td>pre</td>\n",
       "      <td>female</td>\n",
       "      <td>i am just so exhausted im f currently in an in...</td>\n",
       "      <td>anticipation</td>\n",
       "      <td>0.699415</td>\n",
       "    </tr>\n",
       "    <tr>\n",
       "      <th>2</th>\n",
       "      <td>depression</td>\n",
       "      <td>2019-10-08</td>\n",
       "      <td>not sure if i am depressed burnt out or if soc...</td>\n",
       "      <td>pre</td>\n",
       "      <td>female</td>\n",
       "      <td>not sure if i am depressed burnt out or if soc...</td>\n",
       "      <td>anticipation</td>\n",
       "      <td>0.472029</td>\n",
       "    </tr>\n",
       "    <tr>\n",
       "      <th>3</th>\n",
       "      <td>depression</td>\n",
       "      <td>2019-10-08</td>\n",
       "      <td>hi this is my first post just wanted to talk t...</td>\n",
       "      <td>pre</td>\n",
       "      <td>female</td>\n",
       "      <td>hi this is my first post just wanted to talk t...</td>\n",
       "      <td>anticipation</td>\n",
       "      <td>0.866449</td>\n",
       "    </tr>\n",
       "    <tr>\n",
       "      <th>4</th>\n",
       "      <td>depression</td>\n",
       "      <td>2018-11-07</td>\n",
       "      <td>i f felt like i had my shit together at now i ...</td>\n",
       "      <td>pre</td>\n",
       "      <td>female</td>\n",
       "      <td>i f felt like i had my shit together at now i ...</td>\n",
       "      <td>anticipation</td>\n",
       "      <td>0.472515</td>\n",
       "    </tr>\n",
       "  </tbody>\n",
       "</table>\n",
       "</div>"
      ],
      "text/plain": [
       "    subreddit        date                                               text  \\\n",
       "0  depression  2019-08-28  the sun hasnt even came up and im f ready to g...   \n",
       "1  depression  2019-08-28  i am just so exhausted im f currently in an in...   \n",
       "2  depression  2019-10-08  not sure if i am depressed burnt out or if soc...   \n",
       "3  depression  2019-10-08  hi this is my first post just wanted to talk t...   \n",
       "4  depression  2018-11-07  i f felt like i had my shit together at now i ...   \n",
       "\n",
       "  covid period  gender                                           sequence  \\\n",
       "0          pre  female  the sun hasnt even came up and im f ready to g...   \n",
       "1          pre  female  i am just so exhausted im f currently in an in...   \n",
       "2          pre  female  not sure if i am depressed burnt out or if soc...   \n",
       "3          pre  female  hi this is my first post just wanted to talk t...   \n",
       "4          pre  female  i f felt like i had my shit together at now i ...   \n",
       "\n",
       "      sentiment     score  \n",
       "0  anticipation  0.858212  \n",
       "1  anticipation  0.699415  \n",
       "2  anticipation  0.472029  \n",
       "3  anticipation  0.866449  \n",
       "4  anticipation  0.472515  "
      ]
     },
     "execution_count": 71,
     "metadata": {},
     "output_type": "execute_result"
    }
   ],
   "source": [
    "results_df.head()"
   ]
  }
 ],
 "metadata": {
  "kernelspec": {
   "display_name": "Python 3 (ipykernel)",
   "language": "python",
   "name": "python3"
  },
  "language_info": {
   "codemirror_mode": {
    "name": "ipython",
    "version": 3
   },
   "file_extension": ".py",
   "mimetype": "text/x-python",
   "name": "python",
   "nbconvert_exporter": "python",
   "pygments_lexer": "ipython3",
   "version": "3.8.8"
  }
 },
 "nbformat": 4,
 "nbformat_minor": 5
}
