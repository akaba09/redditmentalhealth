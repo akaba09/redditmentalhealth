{
 "cells": [
  {
   "cell_type": "markdown",
   "id": "cf7b5c29",
   "metadata": {},
   "source": [
    "# Zero shot classification test"
   ]
  },
  {
   "cell_type": "code",
   "execution_count": 1,
   "id": "ce4c70b0",
   "metadata": {},
   "outputs": [
    {
     "name": "stderr",
     "output_type": "stream",
     "text": [
      "2023-08-15 14:22:26.641771: I tensorflow/stream_executor/platform/default/dso_loader.cc:49] Successfully opened dynamic library libcudart.so.11.0\n",
      "2023-08-15 14:22:29.251027: I tensorflow/compiler/jit/xla_cpu_device.cc:41] Not creating XLA devices, tf_xla_enable_xla_devices not set\n",
      "2023-08-15 14:22:29.252157: I tensorflow/stream_executor/platform/default/dso_loader.cc:49] Successfully opened dynamic library libcuda.so.1\n",
      "2023-08-15 14:22:29.295290: I tensorflow/stream_executor/cuda/cuda_gpu_executor.cc:941] successful NUMA node read from SysFS had negative value (-1), but there must be at least one NUMA node, so returning NUMA node zero\n",
      "2023-08-15 14:22:29.296263: I tensorflow/core/common_runtime/gpu/gpu_device.cc:1720] Found device 0 with properties: \n",
      "pciBusID: 0000:00:1e.0 name: Tesla V100-SXM2-16GB computeCapability: 7.0\n",
      "coreClock: 1.53GHz coreCount: 80 deviceMemorySize: 15.78GiB deviceMemoryBandwidth: 836.37GiB/s\n",
      "2023-08-15 14:22:29.296307: I tensorflow/stream_executor/platform/default/dso_loader.cc:49] Successfully opened dynamic library libcudart.so.11.0\n",
      "2023-08-15 14:22:29.296453: W tensorflow/stream_executor/platform/default/dso_loader.cc:60] Could not load dynamic library 'libcublas.so.11'; dlerror: libcublas.so.11: cannot open shared object file: No such file or directory; LD_LIBRARY_PATH: /opt/conda/lib/python3.8/site-packages/nvidia/cuda_runtime/lib/libcudart.so.11.0:/opt/oracle/instantclient_12_1:/usr/lib/jvm/java-8-openjdk-amd64/jre/lib/amd64/server:/opt/conda/lib/python3.8/site-packages/nvidia/cuda_runtime/lib:\n",
      "2023-08-15 14:22:29.296575: W tensorflow/stream_executor/platform/default/dso_loader.cc:60] Could not load dynamic library 'libcublasLt.so.11'; dlerror: libcublasLt.so.11: cannot open shared object file: No such file or directory; LD_LIBRARY_PATH: /opt/conda/lib/python3.8/site-packages/nvidia/cuda_runtime/lib/libcudart.so.11.0:/opt/oracle/instantclient_12_1:/usr/lib/jvm/java-8-openjdk-amd64/jre/lib/amd64/server:/opt/conda/lib/python3.8/site-packages/nvidia/cuda_runtime/lib:\n",
      "2023-08-15 14:22:29.296690: W tensorflow/stream_executor/platform/default/dso_loader.cc:60] Could not load dynamic library 'libcufft.so.10'; dlerror: libcufft.so.10: cannot open shared object file: No such file or directory; LD_LIBRARY_PATH: /opt/conda/lib/python3.8/site-packages/nvidia/cuda_runtime/lib/libcudart.so.11.0:/opt/oracle/instantclient_12_1:/usr/lib/jvm/java-8-openjdk-amd64/jre/lib/amd64/server:/opt/conda/lib/python3.8/site-packages/nvidia/cuda_runtime/lib:\n",
      "2023-08-15 14:22:29.296806: W tensorflow/stream_executor/platform/default/dso_loader.cc:60] Could not load dynamic library 'libcurand.so.10'; dlerror: libcurand.so.10: cannot open shared object file: No such file or directory; LD_LIBRARY_PATH: /opt/conda/lib/python3.8/site-packages/nvidia/cuda_runtime/lib/libcudart.so.11.0:/opt/oracle/instantclient_12_1:/usr/lib/jvm/java-8-openjdk-amd64/jre/lib/amd64/server:/opt/conda/lib/python3.8/site-packages/nvidia/cuda_runtime/lib:\n",
      "2023-08-15 14:22:29.296920: W tensorflow/stream_executor/platform/default/dso_loader.cc:60] Could not load dynamic library 'libcusolver.so.10'; dlerror: libcusolver.so.10: cannot open shared object file: No such file or directory; LD_LIBRARY_PATH: /opt/conda/lib/python3.8/site-packages/nvidia/cuda_runtime/lib/libcudart.so.11.0:/opt/oracle/instantclient_12_1:/usr/lib/jvm/java-8-openjdk-amd64/jre/lib/amd64/server:/opt/conda/lib/python3.8/site-packages/nvidia/cuda_runtime/lib:\n",
      "2023-08-15 14:22:29.297037: W tensorflow/stream_executor/platform/default/dso_loader.cc:60] Could not load dynamic library 'libcusparse.so.11'; dlerror: libcusparse.so.11: cannot open shared object file: No such file or directory; LD_LIBRARY_PATH: /opt/conda/lib/python3.8/site-packages/nvidia/cuda_runtime/lib/libcudart.so.11.0:/opt/oracle/instantclient_12_1:/usr/lib/jvm/java-8-openjdk-amd64/jre/lib/amd64/server:/opt/conda/lib/python3.8/site-packages/nvidia/cuda_runtime/lib:\n",
      "2023-08-15 14:22:29.297150: W tensorflow/stream_executor/platform/default/dso_loader.cc:60] Could not load dynamic library 'libcudnn.so.8'; dlerror: libcudnn.so.8: cannot open shared object file: No such file or directory; LD_LIBRARY_PATH: /opt/conda/lib/python3.8/site-packages/nvidia/cuda_runtime/lib/libcudart.so.11.0:/opt/oracle/instantclient_12_1:/usr/lib/jvm/java-8-openjdk-amd64/jre/lib/amd64/server:/opt/conda/lib/python3.8/site-packages/nvidia/cuda_runtime/lib:\n",
      "2023-08-15 14:22:29.297171: W tensorflow/core/common_runtime/gpu/gpu_device.cc:1757] Cannot dlopen some GPU libraries. Please make sure the missing libraries mentioned above are installed properly if you would like to use GPU. Follow the guide at https://www.tensorflow.org/install/gpu for how to download and setup the required libraries for your platform.\n",
      "Skipping registering GPU devices...\n",
      "2023-08-15 14:22:29.297781: I tensorflow/core/platform/cpu_feature_guard.cc:142] This TensorFlow binary is optimized with oneAPI Deep Neural Network Library (oneDNN) to use the following CPU instructions in performance-critical operations:  AVX2 FMA\n",
      "To enable them in other operations, rebuild TensorFlow with the appropriate compiler flags.\n",
      "2023-08-15 14:22:29.298486: I tensorflow/compiler/jit/xla_gpu_device.cc:99] Not creating XLA devices, tf_xla_enable_xla_devices not set\n",
      "2023-08-15 14:22:29.298517: I tensorflow/core/common_runtime/gpu/gpu_device.cc:1261] Device interconnect StreamExecutor with strength 1 edge matrix:\n",
      "2023-08-15 14:22:29.298529: I tensorflow/core/common_runtime/gpu/gpu_device.cc:1267]      \n",
      "/opt/conda/lib/python3.8/site-packages/transformers/convert_slow_tokenizer.py:434: UserWarning: The sentencepiece tokenizer that you are converting to a fast tokenizer uses the byte fallback option which is not implemented in the fast tokenizers. In practice this means that the fast version of the tokenizer can produce unknown tokens whereas the sentencepiece version would have converted these unknown tokens into a sequence of byte tokens matching the original piece of text.\n",
      "  warnings.warn(\n"
     ]
    }
   ],
   "source": [
    "from transformers import pipeline\n",
    "classifier = pipeline(\"zero-shot-classification\", model=\"MoritzLaurer/DeBERTa-v3-base-mnli-fever-anli\")"
   ]
  },
  {
   "cell_type": "code",
   "execution_count": 2,
   "id": "40b6ae5e",
   "metadata": {},
   "outputs": [],
   "source": [
    "import pandas as pd\n",
    "import numpy as np\n",
    "import matplotlib.pyplot as plt\n",
    "import seaborn as sns"
   ]
  },
  {
   "cell_type": "code",
   "execution_count": 3,
   "id": "7d478939",
   "metadata": {},
   "outputs": [],
   "source": [
    "pd.set_option('display.max_columns', None)"
   ]
  },
  {
   "cell_type": "markdown",
   "id": "8c7f4855",
   "metadata": {},
   "source": [
    "## Read in data"
   ]
  },
  {
   "cell_type": "code",
   "execution_count": 4,
   "id": "73805cdb",
   "metadata": {},
   "outputs": [],
   "source": [
    "#reading in data \n",
    "df = pd.read_csv(\"dep.csv\")"
   ]
  },
  {
   "cell_type": "code",
   "execution_count": 5,
   "id": "9600f842",
   "metadata": {},
   "outputs": [],
   "source": [
    "#renaming post col to text\n",
    "df = df.rename(columns = {\"post\" : \"text\"})"
   ]
  },
  {
   "cell_type": "code",
   "execution_count": 6,
   "id": "97c8004d",
   "metadata": {},
   "outputs": [],
   "source": [
    "#Setting label for post\n",
    "text_labels = [\"anticipation\", \"anger\", \"disgust\", \"fear\", \"joy\", \"trust\"]"
   ]
  },
  {
   "cell_type": "code",
   "execution_count": 7,
   "id": "1e96bc39",
   "metadata": {},
   "outputs": [
    {
     "data": {
      "text/plain": [
       "['anticipation', 'anger', 'disgust', 'fear', 'joy', 'trust']"
      ]
     },
     "execution_count": 7,
     "metadata": {},
     "output_type": "execute_result"
    }
   ],
   "source": [
    "text_labels"
   ]
  },
  {
   "cell_type": "markdown",
   "id": "9ee0fea5",
   "metadata": {},
   "source": [
    "## Function to classify text and return a df"
   ]
  },
  {
   "cell_type": "code",
   "execution_count": 8,
   "id": "ca58bb2e",
   "metadata": {},
   "outputs": [],
   "source": [
    "def classify_text(df):\n",
    "    result_list = []\n",
    "    for index, row in df.iterrows():\n",
    "        sequence_to_classify = row['text']\n",
    "        result = classifier(sequence_to_classify, text_labels, multi_label = False)\n",
    "        result['label_1'] = result['labels'][0]\n",
    "        result['label_2'] = result['labels'][1]\n",
    "        result['label_3'] = result['labels'][2]\n",
    "        result['themeScores'] = result['scores'][0:3]\n",
    "        result_list.append(result)\n",
    "    result_df = pd.DataFrame(result_list)[['sequence', 'label_1', 'themeScores']]\n",
    "    return result_df"
   ]
  },
  {
   "cell_type": "code",
   "execution_count": 9,
   "id": "70f5123f",
   "metadata": {},
   "outputs": [
    {
     "data": {
      "text/plain": [
       "Index(['index', 'subreddit', 'date', 'text', 'covid period', 'gender'], dtype='object')"
      ]
     },
     "execution_count": 9,
     "metadata": {},
     "output_type": "execute_result"
    }
   ],
   "source": [
    "df.columns"
   ]
  },
  {
   "cell_type": "code",
   "execution_count": null,
   "id": "178017a1",
   "metadata": {},
   "outputs": [],
   "source": [
    "results_df = classify_text(df)"
   ]
  },
  {
   "cell_type": "code",
   "execution_count": null,
   "id": "2499ae85",
   "metadata": {},
   "outputs": [],
   "source": [
    "df = df.merge(results_df, how = \"left\", left_on = \"text\", right_on = \"sequence\")"
   ]
  },
  {
   "cell_type": "code",
   "execution_count": null,
   "id": "d2e5a017",
   "metadata": {},
   "outputs": [],
   "source": [
    "df.drop('index', 'subreddit', 'date')"
   ]
  },
  {
   "cell_type": "code",
   "execution_count": null,
   "id": "51bd8032",
   "metadata": {},
   "outputs": [],
   "source": [
    "df.to_csv(\"Zero-sentiment.csv\", index = False)"
   ]
  },
  {
   "cell_type": "code",
   "execution_count": null,
   "id": "5d8f2148",
   "metadata": {},
   "outputs": [],
   "source": [
    "# Example data (replace this with your actual data)\n",
    "data = pd.read_csv(\"Zero-sentiment.csv\")\n",
    "\n",
    "# Create a DataFrame\n",
    "df = pd.DataFrame(data)"
   ]
  },
  {
   "cell_type": "code",
   "execution_count": null,
   "id": "82935ef8",
   "metadata": {},
   "outputs": [],
   "source": [
    "# Calculate correlations for each gender and period\n",
    "correlation_data = []\n",
    "\n",
    "emotions = df['label_1'].unique()  # Assuming 'label_1' contains the emotion labels\n",
    "\n",
    "\n",
    "#for emotion in emotions:\n",
    "    for period in df['covid period'].unique():\n",
    "        subset = df[(df['label_1'] == emotion) & (df['covid period'] == period)]\n",
    "        female_scores = subset[subset['gender'] == 'female']['themeScores'].tolist()\n",
    "        male_scores = subset[subset['gender'] == 'male']['themeScores'].tolist()\n",
    "\n",
    "        min_length = min(len(female_scores), len(male_scores))\n",
    "\n",
    "        correlation_sum = 0.0\n",
    "        for i in range(min_length):\n",
    "            correlation_sum += np.corrcoef(female_scores[i], male_scores[i])[0, 1]\n",
    "\n",
    "        average_correlation = correlation_sum / min_length\n",
    "        correlation_data.append({'Emotion': emotion, 'Period': period, 'Correlation': average_correlation})\n",
    "\n",
    "correlation_df = pd.DataFrame(correlation_data)"
   ]
  },
  {
   "cell_type": "code",
   "execution_count": null,
   "id": "aa0c60b1",
   "metadata": {},
   "outputs": [],
   "source": [
    "# Convert themeScores to numerical arrays\n",
    "df['themeScores'] = df['themeScores'].apply(eval)  # Convert the string representation to actual lists\n",
    "df['themeScores'] = df['themeScores'].apply(np.array)  # Convert lists to numpy arrays"
   ]
  },
  {
   "cell_type": "code",
   "execution_count": null,
   "id": "1530c49f",
   "metadata": {},
   "outputs": [],
   "source": [
    "# Create a correlation plot\n",
    "plt.figure(figsize=(12, 8))\n",
    "sns.set(font_scale=1.2)\n",
    "sns.barplot(data=correlation_df, x='Correlation', y='Emotion', hue='Period', dodge=True)\n",
    "plt.title('Sentiment Correlation Plot between Male and Female Subreddit Users')\n",
    "plt.xlabel('Correlation')\n",
    "plt.ylabel('Emotion')\n",
    "plt.legend(title='Period')\n",
    "plt.grid(True)\n",
    "plt.show()"
   ]
  },
  {
   "cell_type": "code",
   "execution_count": null,
   "id": "d85e770f",
   "metadata": {},
   "outputs": [],
   "source": [
    "# Create a DataFrame\n",
    "# Example data (replace this with your actual data)\n",
    "data = pd.read_csv(\"Zero-sentiment.csv\")\n",
    "\n",
    "# Create a DataFrame\n",
    "df = pd.DataFrame(data)\n",
    "\n",
    "# Create a heatmap using Seaborn\n",
    "plt.figure(figsize=(10, 8))\n",
    "sns.heatmap(df, cmap='coolwarm', annot=True, fmt=\".2f\", linewidths=0.5)\n",
    "plt.title('Heatmap Example')\n",
    "plt.show()\n"
   ]
  },
  {
   "cell_type": "markdown",
   "id": "f7d6e7bc",
   "metadata": {},
   "source": [
    "### Heatmap test"
   ]
  },
  {
   "cell_type": "code",
   "execution_count": null,
   "id": "bbbc0c80",
   "metadata": {},
   "outputs": [],
   "source": [
    "#Make one data frame for pre covid and one for post covid\n",
    "sns.set()\n",
    "data_1 = pd.read_csv\"Zero-sentiment.csv\")\n",
    "data_1 = data_1.pivot(\"gender\", \"subreddit\", \"label_1\")\n",
    "ax = sns.heatmap(data_1)\n",
    "plt.title(\"Heatmap Depression Data\")\n",
    "plt.show()\n"
   ]
  },
  {
   "cell_type": "code",
   "execution_count": null,
   "id": "42a9b468",
   "metadata": {},
   "outputs": [],
   "source": []
  }
 ],
 "metadata": {
  "kernelspec": {
   "display_name": "Python 3 (ipykernel)",
   "language": "python",
   "name": "python3"
  },
  "language_info": {
   "codemirror_mode": {
    "name": "ipython",
    "version": 3
   },
   "file_extension": ".py",
   "mimetype": "text/x-python",
   "name": "python",
   "nbconvert_exporter": "python",
   "pygments_lexer": "ipython3",
   "version": "3.8.8"
  }
 },
 "nbformat": 4,
 "nbformat_minor": 5
}
