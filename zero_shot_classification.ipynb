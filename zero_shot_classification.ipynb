{
 "cells": [
  {
   "cell_type": "markdown",
   "id": "ba6a0897",
   "metadata": {},
   "source": [
    "# Zero shot classification\n",
    "\n",
    "## [DeBerta-v3-base-mnli-fever-anli](https://huggingface.co/MoritzLaurer/DeBERTa-v3-base-mnli-fever-anli?candidateLabels=covid-19%2C+vaccine+efficacy%2C+vaccine+side+effects%2C+measles%2C+cholera%2C+home+remedies%2C+conspiracy&multiClass=true&text=actor+jamie+foxx+reportedly+par+lyzed+and+bl+nd+due+to+covid+19+vaccine+american+actor+jamie+foxx+has+reportedly+s+ffered+partial+par+lysis+following+a+covid+19+vaccine+complication+the+vaccine+according+to+hollywood+journalist+a+j+benza+resulted+in+a+bl+d+clot+in+his+brain+that+led+to+him+being+partially+par+lyzed+and+bl+nd+in+addition+to+a+series+of+other+complications+benza+claims+the+news+was+confirmed+by+a+source+close+to+foxx+jamie+had+a+bl+d+clot+in+his+brain+after+he+got+the+sh+t+he+did+not+want+the+sh+t+but+the+movie+he+was+on+he+was+pressured+to+get+it+confessed+the+journalist+who+formally+worked+as+a+columnist+for+the+new+york+daily+news+during+an+appearance+on+dr+drew+pinsky+s+online+show+ask+dr+drew+the+bl+d+clot+in+the+brain+caused+him+at+that+point+to+be+partially+par+lyzed+and+bl+nd+benza+alleged+as+he+insisted+his+insider+was+someone+in+the+room+with+first+hand+knowledge+of+foxx+s+hospitalization+foxx+was+admitted+to+the+hospital+after+s+ffering+a+medical+complication+on+thursday+april+11+according+to+his+daughter+corinne+foxx+luckily+due+to+quick+action+and+great+care+he+is+already+on+his+way+to+recovery+we+know+how+beloved+he+is+and+appreciate+your+prayers+the+family+asks+for+privacy+during+this+time+she+said+the+55+year+old+s+medical+woes+began+while+filming+his+latest+movie+back+in+action+the+movie+also+starring+cameron+diaz+is+said+to+have+moved+forward+with+production+without+foxx+using+a+body+double+in+his+place)"
   ]
  },
  {
   "cell_type": "code",
   "execution_count": 1,
   "id": "82a0376a",
   "metadata": {},
   "outputs": [
    {
     "name": "stderr",
     "output_type": "stream",
     "text": [
      "2023-07-21 18:21:16.359443: I tensorflow/stream_executor/platform/default/dso_loader.cc:49] Successfully opened dynamic library libcudart.so.11.0\n"
     ]
    },
    {
     "data": {
      "application/vnd.jupyter.widget-view+json": {
       "model_id": "4b664197721c4471bda30bf0ad0c1356",
       "version_major": 2,
       "version_minor": 0
      },
      "text/plain": [
       "Downloading:   0%|          | 0.00/1.06k [00:00<?, ?B/s]"
      ]
     },
     "metadata": {},
     "output_type": "display_data"
    },
    {
     "name": "stderr",
     "output_type": "stream",
     "text": [
      "2023-07-21 18:21:19.202167: I tensorflow/compiler/jit/xla_cpu_device.cc:41] Not creating XLA devices, tf_xla_enable_xla_devices not set\n",
      "2023-07-21 18:21:19.203406: I tensorflow/stream_executor/platform/default/dso_loader.cc:49] Successfully opened dynamic library libcuda.so.1\n",
      "2023-07-21 18:21:19.229901: I tensorflow/stream_executor/cuda/cuda_gpu_executor.cc:941] successful NUMA node read from SysFS had negative value (-1), but there must be at least one NUMA node, so returning NUMA node zero\n",
      "2023-07-21 18:21:19.230761: I tensorflow/core/common_runtime/gpu/gpu_device.cc:1720] Found device 0 with properties: \n",
      "pciBusID: 0000:00:1e.0 name: Tesla V100-SXM2-16GB computeCapability: 7.0\n",
      "coreClock: 1.53GHz coreCount: 80 deviceMemorySize: 15.78GiB deviceMemoryBandwidth: 836.37GiB/s\n",
      "2023-07-21 18:21:19.230804: I tensorflow/stream_executor/platform/default/dso_loader.cc:49] Successfully opened dynamic library libcudart.so.11.0\n",
      "2023-07-21 18:21:19.231159: W tensorflow/stream_executor/platform/default/dso_loader.cc:60] Could not load dynamic library 'libcublas.so.11'; dlerror: libcublas.so.11: cannot open shared object file: No such file or directory; LD_LIBRARY_PATH: /opt/conda/lib/python3.8/site-packages/nvidia/cuda_runtime/lib/libcudart.so.11.0:/opt/oracle/instantclient_12_1:/usr/lib/jvm/java-8-openjdk-amd64/jre/lib/amd64/server:/opt/conda/lib/python3.8/site-packages/nvidia/cuda_runtime/lib:\n",
      "2023-07-21 18:21:19.231424: W tensorflow/stream_executor/platform/default/dso_loader.cc:60] Could not load dynamic library 'libcublasLt.so.11'; dlerror: libcublasLt.so.11: cannot open shared object file: No such file or directory; LD_LIBRARY_PATH: /opt/conda/lib/python3.8/site-packages/nvidia/cuda_runtime/lib/libcudart.so.11.0:/opt/oracle/instantclient_12_1:/usr/lib/jvm/java-8-openjdk-amd64/jre/lib/amd64/server:/opt/conda/lib/python3.8/site-packages/nvidia/cuda_runtime/lib:\n",
      "2023-07-21 18:21:19.231672: W tensorflow/stream_executor/platform/default/dso_loader.cc:60] Could not load dynamic library 'libcufft.so.10'; dlerror: libcufft.so.10: cannot open shared object file: No such file or directory; LD_LIBRARY_PATH: /opt/conda/lib/python3.8/site-packages/nvidia/cuda_runtime/lib/libcudart.so.11.0:/opt/oracle/instantclient_12_1:/usr/lib/jvm/java-8-openjdk-amd64/jre/lib/amd64/server:/opt/conda/lib/python3.8/site-packages/nvidia/cuda_runtime/lib:\n",
      "2023-07-21 18:21:19.231925: W tensorflow/stream_executor/platform/default/dso_loader.cc:60] Could not load dynamic library 'libcurand.so.10'; dlerror: libcurand.so.10: cannot open shared object file: No such file or directory; LD_LIBRARY_PATH: /opt/conda/lib/python3.8/site-packages/nvidia/cuda_runtime/lib/libcudart.so.11.0:/opt/oracle/instantclient_12_1:/usr/lib/jvm/java-8-openjdk-amd64/jre/lib/amd64/server:/opt/conda/lib/python3.8/site-packages/nvidia/cuda_runtime/lib:\n",
      "2023-07-21 18:21:19.232172: W tensorflow/stream_executor/platform/default/dso_loader.cc:60] Could not load dynamic library 'libcusolver.so.10'; dlerror: libcusolver.so.10: cannot open shared object file: No such file or directory; LD_LIBRARY_PATH: /opt/conda/lib/python3.8/site-packages/nvidia/cuda_runtime/lib/libcudart.so.11.0:/opt/oracle/instantclient_12_1:/usr/lib/jvm/java-8-openjdk-amd64/jre/lib/amd64/server:/opt/conda/lib/python3.8/site-packages/nvidia/cuda_runtime/lib:\n",
      "2023-07-21 18:21:19.232415: W tensorflow/stream_executor/platform/default/dso_loader.cc:60] Could not load dynamic library 'libcusparse.so.11'; dlerror: libcusparse.so.11: cannot open shared object file: No such file or directory; LD_LIBRARY_PATH: /opt/conda/lib/python3.8/site-packages/nvidia/cuda_runtime/lib/libcudart.so.11.0:/opt/oracle/instantclient_12_1:/usr/lib/jvm/java-8-openjdk-amd64/jre/lib/amd64/server:/opt/conda/lib/python3.8/site-packages/nvidia/cuda_runtime/lib:\n",
      "2023-07-21 18:21:19.232667: W tensorflow/stream_executor/platform/default/dso_loader.cc:60] Could not load dynamic library 'libcudnn.so.8'; dlerror: libcudnn.so.8: cannot open shared object file: No such file or directory; LD_LIBRARY_PATH: /opt/conda/lib/python3.8/site-packages/nvidia/cuda_runtime/lib/libcudart.so.11.0:/opt/oracle/instantclient_12_1:/usr/lib/jvm/java-8-openjdk-amd64/jre/lib/amd64/server:/opt/conda/lib/python3.8/site-packages/nvidia/cuda_runtime/lib:\n",
      "2023-07-21 18:21:19.232687: W tensorflow/core/common_runtime/gpu/gpu_device.cc:1757] Cannot dlopen some GPU libraries. Please make sure the missing libraries mentioned above are installed properly if you would like to use GPU. Follow the guide at https://www.tensorflow.org/install/gpu for how to download and setup the required libraries for your platform.\n",
      "Skipping registering GPU devices...\n",
      "2023-07-21 18:21:19.233337: I tensorflow/core/platform/cpu_feature_guard.cc:142] This TensorFlow binary is optimized with oneAPI Deep Neural Network Library (oneDNN) to use the following CPU instructions in performance-critical operations:  AVX2 FMA\n",
      "To enable them in other operations, rebuild TensorFlow with the appropriate compiler flags.\n",
      "2023-07-21 18:21:19.234011: I tensorflow/compiler/jit/xla_gpu_device.cc:99] Not creating XLA devices, tf_xla_enable_xla_devices not set\n",
      "2023-07-21 18:21:19.234042: I tensorflow/core/common_runtime/gpu/gpu_device.cc:1261] Device interconnect StreamExecutor with strength 1 edge matrix:\n",
      "2023-07-21 18:21:19.234054: I tensorflow/core/common_runtime/gpu/gpu_device.cc:1267]      \n"
     ]
    },
    {
     "data": {
      "application/vnd.jupyter.widget-view+json": {
       "model_id": "5a7c633658164024acbc09c6de8e4344",
       "version_major": 2,
       "version_minor": 0
      },
      "text/plain": [
       "Downloading:   0%|          | 0.00/352M [00:00<?, ?B/s]"
      ]
     },
     "metadata": {},
     "output_type": "display_data"
    },
    {
     "data": {
      "application/vnd.jupyter.widget-view+json": {
       "model_id": "8c7050986f2c4a87b10e1f8df423bcae",
       "version_major": 2,
       "version_minor": 0
      },
      "text/plain": [
       "Downloading:   0%|          | 0.00/417 [00:00<?, ?B/s]"
      ]
     },
     "metadata": {},
     "output_type": "display_data"
    },
    {
     "data": {
      "application/vnd.jupyter.widget-view+json": {
       "model_id": "ffa4178cb9ea49b29cf22e5685536c76",
       "version_major": 2,
       "version_minor": 0
      },
      "text/plain": [
       "Downloading:   0%|          | 0.00/2.35M [00:00<?, ?B/s]"
      ]
     },
     "metadata": {},
     "output_type": "display_data"
    },
    {
     "data": {
      "application/vnd.jupyter.widget-view+json": {
       "model_id": "cd358f7e037243b797369587aab1159d",
       "version_major": 2,
       "version_minor": 0
      },
      "text/plain": [
       "Downloading:   0%|          | 0.00/18.0 [00:00<?, ?B/s]"
      ]
     },
     "metadata": {},
     "output_type": "display_data"
    },
    {
     "data": {
      "application/vnd.jupyter.widget-view+json": {
       "model_id": "dce518738e554f20ad140c874525ceaf",
       "version_major": 2,
       "version_minor": 0
      },
      "text/plain": [
       "Downloading:   0%|          | 0.00/156 [00:00<?, ?B/s]"
      ]
     },
     "metadata": {},
     "output_type": "display_data"
    },
    {
     "name": "stderr",
     "output_type": "stream",
     "text": [
      "/opt/conda/lib/python3.8/site-packages/transformers/convert_slow_tokenizer.py:434: UserWarning: The sentencepiece tokenizer that you are converting to a fast tokenizer uses the byte fallback option which is not implemented in the fast tokenizers. In practice this means that the fast version of the tokenizer can produce unknown tokens whereas the sentencepiece version would have converted these unknown tokens into a sequence of byte tokens matching the original piece of text.\n",
      "  warnings.warn(\n"
     ]
    }
   ],
   "source": [
    "from transformers import pipeline\n",
    "classifier = pipeline(\"zero-shot-classification\", model=\"MoritzLaurer/DeBERTa-v3-base-mnli-fever-anli\")"
   ]
  },
  {
   "cell_type": "code",
   "execution_count": 3,
   "id": "e3e378d1",
   "metadata": {},
   "outputs": [],
   "source": [
    "import pandas as pd\n",
    "pd.set_option('display.max_columns', None)"
   ]
  },
  {
   "cell_type": "markdown",
   "id": "2392da6b",
   "metadata": {},
   "source": [
    "### Example"
   ]
  },
  {
   "cell_type": "code",
   "execution_count": 6,
   "id": "2ffbc218",
   "metadata": {},
   "outputs": [
    {
     "name": "stdout",
     "output_type": "stream",
     "text": [
      "{'sequence': 'Angela Merkel is a politician in Germany and leader of the CDU', 'labels': ['hello kitty', 'environment', 'dog', 'entertainment'], 'scores': [0.5422002673149109, 0.5266703367233276, 0.3002735674381256, 0.02254047431051731]}\n"
     ]
    }
   ],
   "source": [
    "sequence_to_classify = \"Angela Merkel is a politician in Germany and leader of the CDU\"\n",
    "candidate_labels = [\"hello kitty\", \"dog\", \"entertainment\", \"environment\"]\n",
    "output = classifier(sequence_to_classify, candidate_labels, multi_label=True)\n",
    "print(output)\n"
   ]
  },
  {
   "cell_type": "markdown",
   "id": "30db1fb0",
   "metadata": {},
   "source": [
    "### Read in data"
   ]
  },
  {
   "cell_type": "code",
   "execution_count": 7,
   "id": "016f03fb",
   "metadata": {},
   "outputs": [],
   "source": [
    "# read in data export\n",
    "df = pd.read_csv(\"amp.csv\")"
   ]
  },
  {
   "cell_type": "code",
   "execution_count": 8,
   "id": "270961bf",
   "metadata": {},
   "outputs": [],
   "source": [
    "# set labels for themes\n",
    "theme_labels = df['themeName'].unique()\n",
    "\n",
    "# set labels for issues\n",
    "issue_labels = df['issueName'].unique()"
   ]
  },
  {
   "cell_type": "code",
   "execution_count": 9,
   "id": "1769fb6c",
   "metadata": {},
   "outputs": [
    {
     "data": {
      "text/plain": [
       "array(['Vaccine Side Effects', 'Home Remedies', nan, 'Corruption',\n",
       "       'Conspiracy', 'Vaccine Efficacy', 'Case Reporting',\n",
       "       'Traditional/Religious Practices', 'Bio-weapon', 'Variants',\n",
       "       'Treatment', 'Media Bias', 'Stigmatization', 'Disease Risk'],\n",
       "      dtype=object)"
      ]
     },
     "execution_count": 9,
     "metadata": {},
     "output_type": "execute_result"
    }
   ],
   "source": [
    "theme_labels"
   ]
  },
  {
   "cell_type": "markdown",
   "id": "830b2a5b",
   "metadata": {},
   "source": [
    "## Write function to classify text and return a df"
   ]
  },
  {
   "cell_type": "code",
   "execution_count": 10,
   "id": "e1a1e91b",
   "metadata": {},
   "outputs": [],
   "source": [
    "def classify_themes(df):\n",
    "    result_list = []\n",
    "    for index, row in df.iterrows():\n",
    "        text_sequence = row['text']\n",
    "        result = classifier(text_sequence, theme_labels, multi_label = True)\n",
    "        result['predictedThemes'] = result['labels'][0:3]\n",
    "        result['themeScores'] = result['scores'][0:3]\n",
    "        result_list.append(result)\n",
    "    result_df = pd.DataFrame(result_list)[['sequence', 'predictedThemes', 'themeScores']]\n",
    "    return result_df"
   ]
  },
  {
   "cell_type": "code",
   "execution_count": 11,
   "id": "cb85c69a",
   "metadata": {},
   "outputs": [],
   "source": [
    "def classify_issues(df):\n",
    "    result_list = []\n",
    "    for index, row in df.iterrows():\n",
    "        text_sequence = row['text']\n",
    "        result = classifier(text_sequence, issue_labels, multi_label = False)\n",
    "        result['predictedIssues'] = result['labels'][0]\n",
    "        result['issueScores'] = result['scores'][0]\n",
    "        result_list.append(result)\n",
    "    result_df = pd.DataFrame(result_list)[['sequence', 'predictedIssues', 'issueScores']]\n",
    "    return result_df"
   ]
  },
  {
   "cell_type": "code",
   "execution_count": 12,
   "id": "936b10a8",
   "metadata": {},
   "outputs": [
    {
     "data": {
      "text/plain": [
       "Index(['date', 'attachments', 'textTranslated', 'detectedLanguage',\n",
       "       'likeCount', 'countries', 'authorId', 'url', 'platform', 'commentCount',\n",
       "       'socialMediaPostType', 'shareCount', 'createdAt', 'submittedLanguage',\n",
       "       'themeIds', 'issueIds', 'text', 'updatedAt', 'id', 'index', 'type',\n",
       "       'issueName', 'themeName'],\n",
       "      dtype='object')"
      ]
     },
     "execution_count": 12,
     "metadata": {},
     "output_type": "execute_result"
    }
   ],
   "source": [
    "df.columns"
   ]
  },
  {
   "cell_type": "code",
   "execution_count": 178,
   "id": "4a51c9eb",
   "metadata": {
    "scrolled": true
   },
   "outputs": [],
   "source": [
    "# predict themes\n",
    "themes_df = classify_themes(df)"
   ]
  },
  {
   "cell_type": "code",
   "execution_count": 180,
   "id": "c34c43c4",
   "metadata": {},
   "outputs": [],
   "source": [
    "# predict issues\n",
    "issues_df = classify_issues(df)"
   ]
  },
  {
   "cell_type": "code",
   "execution_count": 182,
   "id": "0b2fe564",
   "metadata": {},
   "outputs": [],
   "source": [
    "# combine results\n",
    "results_df =  issues_df.merge(themes_df, how = \"left\", on = [\"sequence\"])"
   ]
  },
  {
   "cell_type": "code",
   "execution_count": 184,
   "id": "3f5bf574",
   "metadata": {},
   "outputs": [],
   "source": [
    "# write to csv\n",
    "results_df.to_csv(\"predicted_amp.csv\", index = False)"
   ]
  },
  {
   "cell_type": "markdown",
   "id": "091006ba",
   "metadata": {},
   "source": [
    "## Combine to original dataframe"
   ]
  },
  {
   "cell_type": "code",
   "execution_count": 188,
   "id": "0100f4b3",
   "metadata": {},
   "outputs": [],
   "source": [
    "df = df.merge(results_df, how = \"left\", left_on = \"text\", right_on = \"sequence\")"
   ]
  },
  {
   "cell_type": "code",
   "execution_count": 191,
   "id": "2139cf0e",
   "metadata": {},
   "outputs": [
    {
     "data": {
      "text/html": [
       "<div>\n",
       "<style scoped>\n",
       "    .dataframe tbody tr th:only-of-type {\n",
       "        vertical-align: middle;\n",
       "    }\n",
       "\n",
       "    .dataframe tbody tr th {\n",
       "        vertical-align: top;\n",
       "    }\n",
       "\n",
       "    .dataframe thead th {\n",
       "        text-align: right;\n",
       "    }\n",
       "</style>\n",
       "<table border=\"1\" class=\"dataframe\">\n",
       "  <thead>\n",
       "    <tr style=\"text-align: right;\">\n",
       "      <th></th>\n",
       "      <th>date</th>\n",
       "      <th>attachments</th>\n",
       "      <th>textTranslated</th>\n",
       "      <th>detectedLanguage</th>\n",
       "      <th>likeCount</th>\n",
       "      <th>countries</th>\n",
       "      <th>authorId</th>\n",
       "      <th>url</th>\n",
       "      <th>platform</th>\n",
       "      <th>commentCount</th>\n",
       "      <th>socialMediaPostType</th>\n",
       "      <th>shareCount</th>\n",
       "      <th>createdAt</th>\n",
       "      <th>submittedLanguage</th>\n",
       "      <th>themeIds</th>\n",
       "      <th>issueIds</th>\n",
       "      <th>text</th>\n",
       "      <th>updatedAt</th>\n",
       "      <th>id</th>\n",
       "      <th>index</th>\n",
       "      <th>type</th>\n",
       "      <th>issueName</th>\n",
       "      <th>themeName</th>\n",
       "      <th>predicted_labels</th>\n",
       "      <th>sequence</th>\n",
       "      <th>predictedIssues</th>\n",
       "      <th>issueScores</th>\n",
       "      <th>predictedThemes</th>\n",
       "      <th>themeScores</th>\n",
       "    </tr>\n",
       "  </thead>\n",
       "  <tbody>\n",
       "    <tr>\n",
       "      <th>0</th>\n",
       "      <td>2023-06-03</td>\n",
       "      <td>2023/06/08/evidence/749a5972-c537-4f93-80de-ad...</td>\n",
       "      <td>[object Object]</td>\n",
       "      <td>en</td>\n",
       "      <td>76.0</td>\n",
       "      <td>NG</td>\n",
       "      <td>rhysoneill@gmail.com</td>\n",
       "      <td>https://www.facebook.com/instablog9ja/posts/pf...</td>\n",
       "      <td>Facebook</td>\n",
       "      <td>9.0</td>\n",
       "      <td>Post</td>\n",
       "      <td>4.0</td>\n",
       "      <td>2023-06-08T16:14:34.393Z</td>\n",
       "      <td>en</td>\n",
       "      <td>e83rfYgBnMmOXZCbaYt2</td>\n",
       "      <td>g80Cf4gBnMmOXZCbX4tn</td>\n",
       "      <td>actor jamie foxx reportedly par lyzed and bl n...</td>\n",
       "      <td>2023-06-08T16:14:34.393Z</td>\n",
       "      <td>749a5972-c537-4f93-80de-adb0c73527a2</td>\n",
       "      <td>prod-evidence-v1</td>\n",
       "      <td>_doc</td>\n",
       "      <td>COVID-19</td>\n",
       "      <td>Vaccine Side Effects</td>\n",
       "      <td>NaN</td>\n",
       "      <td>actor jamie foxx reportedly par lyzed and bl n...</td>\n",
       "      <td>COVID-19</td>\n",
       "      <td>0.882953</td>\n",
       "      <td>[Vaccine Side Effects, Vaccine Efficacy, Case ...</td>\n",
       "      <td>[0.9748157262802124, 0.9450281858444214, 0.891...</td>\n",
       "    </tr>\n",
       "    <tr>\n",
       "      <th>1</th>\n",
       "      <td>2023-06-05</td>\n",
       "      <td>NaN</td>\n",
       "      <td>[object Object]</td>\n",
       "      <td>en</td>\n",
       "      <td>2.0</td>\n",
       "      <td>KE</td>\n",
       "      <td>rhysoneill@gmail.com</td>\n",
       "      <td>https://www.facebook.com/robertalai/posts/pfbi...</td>\n",
       "      <td>Facebook</td>\n",
       "      <td>NaN</td>\n",
       "      <td>Comment</td>\n",
       "      <td>NaN</td>\n",
       "      <td>2023-06-08T17:13:15.540Z</td>\n",
       "      <td>en</td>\n",
       "      <td>fs31fogBnMmOXZCbnosl</td>\n",
       "      <td>g80Cf4gBnMmOXZCbX4tn</td>\n",
       "      <td>use alot of fresh ginger when it strikes your ...</td>\n",
       "      <td>2023-06-08T17:13:15.540Z</td>\n",
       "      <td>11b135fd-d34f-4bc5-9e51-b4ed28f22a22</td>\n",
       "      <td>prod-evidence-v1</td>\n",
       "      <td>_doc</td>\n",
       "      <td>COVID-19</td>\n",
       "      <td>Home Remedies</td>\n",
       "      <td>NaN</td>\n",
       "      <td>use alot of fresh ginger when it strikes your ...</td>\n",
       "      <td>Measles</td>\n",
       "      <td>0.203130</td>\n",
       "      <td>[Home Remedies, Treatment, Vaccine Efficacy]</td>\n",
       "      <td>[0.8939719796180725, 0.8867986798286438, 0.683...</td>\n",
       "    </tr>\n",
       "    <tr>\n",
       "      <th>2</th>\n",
       "      <td>2023-06-07</td>\n",
       "      <td>NaN</td>\n",
       "      <td>[object Object]</td>\n",
       "      <td>en</td>\n",
       "      <td>1.0</td>\n",
       "      <td>ZA</td>\n",
       "      <td>rhysoneill@gmail.com</td>\n",
       "      <td>https://www.facebook.com/permalink.php?story_f...</td>\n",
       "      <td>Facebook</td>\n",
       "      <td>NaN</td>\n",
       "      <td>Comment</td>\n",
       "      <td>NaN</td>\n",
       "      <td>2023-06-08T18:24:00.164Z</td>\n",
       "      <td>en</td>\n",
       "      <td>NaN</td>\n",
       "      <td>g80Cf4gBnMmOXZCbX4tn</td>\n",
       "      <td>vaccine kills government pushed a unapproved v...</td>\n",
       "      <td>2023-06-08T18:24:00.164Z</td>\n",
       "      <td>9f635c18-49c4-4d26-ada9-5d6ae2706f1c</td>\n",
       "      <td>prod-evidence-v1</td>\n",
       "      <td>_doc</td>\n",
       "      <td>COVID-19</td>\n",
       "      <td>NaN</td>\n",
       "      <td>NaN</td>\n",
       "      <td>vaccine kills government pushed a unapproved v...</td>\n",
       "      <td>Polio</td>\n",
       "      <td>0.218444</td>\n",
       "      <td>[Vaccine Side Effects, Corruption, Conspiracy]</td>\n",
       "      <td>[0.9939225316047668, 0.9603886008262634, 0.952...</td>\n",
       "    </tr>\n",
       "    <tr>\n",
       "      <th>3</th>\n",
       "      <td>2023-05-17</td>\n",
       "      <td>2023/06/08/evidence/af0d9542-930b-4101-a786-20...</td>\n",
       "      <td>[object Object]</td>\n",
       "      <td>en</td>\n",
       "      <td>NaN</td>\n",
       "      <td>ZA,Africa</td>\n",
       "      <td>rhysoneill@gmail.com</td>\n",
       "      <td>https://t.me/SAAwakened/138313</td>\n",
       "      <td>Telegram</td>\n",
       "      <td>NaN</td>\n",
       "      <td>NaN</td>\n",
       "      <td>NaN</td>\n",
       "      <td>2023-06-08T14:30:29.975Z</td>\n",
       "      <td>en</td>\n",
       "      <td>es3rfYgBnMmOXZCbaYt2</td>\n",
       "      <td>g80Cf4gBnMmOXZCbX4tn</td>\n",
       "      <td>reminder  share share share  stop medical col...</td>\n",
       "      <td>2023-06-08T14:30:29.975Z</td>\n",
       "      <td>af0d9542-930b-4101-a786-202710a13f26</td>\n",
       "      <td>prod-evidence-v1</td>\n",
       "      <td>_doc</td>\n",
       "      <td>COVID-19</td>\n",
       "      <td>Corruption</td>\n",
       "      <td>NaN</td>\n",
       "      <td>reminder  share share share  stop medical col...</td>\n",
       "      <td>Cholera</td>\n",
       "      <td>0.774956</td>\n",
       "      <td>[Disease Risk, Treatment, Corruption]</td>\n",
       "      <td>[0.9749229550361633, 0.746890664100647, 0.7359...</td>\n",
       "    </tr>\n",
       "    <tr>\n",
       "      <th>4</th>\n",
       "      <td>2023-06-08</td>\n",
       "      <td>2023/06/08/evidence/085206d6-bbb6-460e-b96e-98...</td>\n",
       "      <td>[object Object]</td>\n",
       "      <td>en</td>\n",
       "      <td>NaN</td>\n",
       "      <td>ZA</td>\n",
       "      <td>rhysoneill@gmail.com</td>\n",
       "      <td>NaN</td>\n",
       "      <td>WhatsApp</td>\n",
       "      <td>NaN</td>\n",
       "      <td>NaN</td>\n",
       "      <td>NaN</td>\n",
       "      <td>2023-06-08T14:19:09.429Z</td>\n",
       "      <td>en</td>\n",
       "      <td>e83rfYgBnMmOXZCbaYt2</td>\n",
       "      <td>NaN</td>\n",
       "      <td>the south african government has established a...</td>\n",
       "      <td>2023-06-08T14:19:09.429Z</td>\n",
       "      <td>ea9ee102-2d4f-48f3-b1f4-13b2cb4714ba</td>\n",
       "      <td>prod-evidence-v1</td>\n",
       "      <td>_doc</td>\n",
       "      <td>NaN</td>\n",
       "      <td>Vaccine Side Effects</td>\n",
       "      <td>NaN</td>\n",
       "      <td>the south african government has established a...</td>\n",
       "      <td>COVID-19</td>\n",
       "      <td>0.956345</td>\n",
       "      <td>[Vaccine Side Effects, nan, Vaccine Efficacy]</td>\n",
       "      <td>[0.9132343530654907, 0.4491819143295288, 0.406...</td>\n",
       "    </tr>\n",
       "  </tbody>\n",
       "</table>\n",
       "</div>"
      ],
      "text/plain": [
       "         date                                        attachments  \\\n",
       "0  2023-06-03  2023/06/08/evidence/749a5972-c537-4f93-80de-ad...   \n",
       "1  2023-06-05                                                NaN   \n",
       "2  2023-06-07                                                NaN   \n",
       "3  2023-05-17  2023/06/08/evidence/af0d9542-930b-4101-a786-20...   \n",
       "4  2023-06-08  2023/06/08/evidence/085206d6-bbb6-460e-b96e-98...   \n",
       "\n",
       "    textTranslated detectedLanguage  likeCount  countries  \\\n",
       "0  [object Object]               en       76.0         NG   \n",
       "1  [object Object]               en        2.0         KE   \n",
       "2  [object Object]               en        1.0         ZA   \n",
       "3  [object Object]               en        NaN  ZA,Africa   \n",
       "4  [object Object]               en        NaN         ZA   \n",
       "\n",
       "               authorId                                                url  \\\n",
       "0  rhysoneill@gmail.com  https://www.facebook.com/instablog9ja/posts/pf...   \n",
       "1  rhysoneill@gmail.com  https://www.facebook.com/robertalai/posts/pfbi...   \n",
       "2  rhysoneill@gmail.com  https://www.facebook.com/permalink.php?story_f...   \n",
       "3  rhysoneill@gmail.com                     https://t.me/SAAwakened/138313   \n",
       "4  rhysoneill@gmail.com                                                NaN   \n",
       "\n",
       "   platform  commentCount socialMediaPostType  shareCount  \\\n",
       "0  Facebook           9.0                Post         4.0   \n",
       "1  Facebook           NaN             Comment         NaN   \n",
       "2  Facebook           NaN             Comment         NaN   \n",
       "3  Telegram           NaN                 NaN         NaN   \n",
       "4  WhatsApp           NaN                 NaN         NaN   \n",
       "\n",
       "                  createdAt submittedLanguage              themeIds  \\\n",
       "0  2023-06-08T16:14:34.393Z                en  e83rfYgBnMmOXZCbaYt2   \n",
       "1  2023-06-08T17:13:15.540Z                en  fs31fogBnMmOXZCbnosl   \n",
       "2  2023-06-08T18:24:00.164Z                en                   NaN   \n",
       "3  2023-06-08T14:30:29.975Z                en  es3rfYgBnMmOXZCbaYt2   \n",
       "4  2023-06-08T14:19:09.429Z                en  e83rfYgBnMmOXZCbaYt2   \n",
       "\n",
       "               issueIds                                               text  \\\n",
       "0  g80Cf4gBnMmOXZCbX4tn  actor jamie foxx reportedly par lyzed and bl n...   \n",
       "1  g80Cf4gBnMmOXZCbX4tn  use alot of fresh ginger when it strikes your ...   \n",
       "2  g80Cf4gBnMmOXZCbX4tn  vaccine kills government pushed a unapproved v...   \n",
       "3  g80Cf4gBnMmOXZCbX4tn   reminder  share share share  stop medical col...   \n",
       "4                   NaN  the south african government has established a...   \n",
       "\n",
       "                  updatedAt                                    id  \\\n",
       "0  2023-06-08T16:14:34.393Z  749a5972-c537-4f93-80de-adb0c73527a2   \n",
       "1  2023-06-08T17:13:15.540Z  11b135fd-d34f-4bc5-9e51-b4ed28f22a22   \n",
       "2  2023-06-08T18:24:00.164Z  9f635c18-49c4-4d26-ada9-5d6ae2706f1c   \n",
       "3  2023-06-08T14:30:29.975Z  af0d9542-930b-4101-a786-202710a13f26   \n",
       "4  2023-06-08T14:19:09.429Z  ea9ee102-2d4f-48f3-b1f4-13b2cb4714ba   \n",
       "\n",
       "              index  type issueName             themeName  predicted_labels  \\\n",
       "0  prod-evidence-v1  _doc  COVID-19  Vaccine Side Effects               NaN   \n",
       "1  prod-evidence-v1  _doc  COVID-19         Home Remedies               NaN   \n",
       "2  prod-evidence-v1  _doc  COVID-19                   NaN               NaN   \n",
       "3  prod-evidence-v1  _doc  COVID-19            Corruption               NaN   \n",
       "4  prod-evidence-v1  _doc       NaN  Vaccine Side Effects               NaN   \n",
       "\n",
       "                                            sequence predictedIssues  \\\n",
       "0  actor jamie foxx reportedly par lyzed and bl n...        COVID-19   \n",
       "1  use alot of fresh ginger when it strikes your ...         Measles   \n",
       "2  vaccine kills government pushed a unapproved v...           Polio   \n",
       "3   reminder  share share share  stop medical col...         Cholera   \n",
       "4  the south african government has established a...        COVID-19   \n",
       "\n",
       "   issueScores                                    predictedThemes  \\\n",
       "0     0.882953  [Vaccine Side Effects, Vaccine Efficacy, Case ...   \n",
       "1     0.203130       [Home Remedies, Treatment, Vaccine Efficacy]   \n",
       "2     0.218444     [Vaccine Side Effects, Corruption, Conspiracy]   \n",
       "3     0.774956              [Disease Risk, Treatment, Corruption]   \n",
       "4     0.956345      [Vaccine Side Effects, nan, Vaccine Efficacy]   \n",
       "\n",
       "                                         themeScores  \n",
       "0  [0.9748157262802124, 0.9450281858444214, 0.891...  \n",
       "1  [0.8939719796180725, 0.8867986798286438, 0.683...  \n",
       "2  [0.9939225316047668, 0.9603886008262634, 0.952...  \n",
       "3  [0.9749229550361633, 0.746890664100647, 0.7359...  \n",
       "4  [0.9132343530654907, 0.4491819143295288, 0.406...  "
      ]
     },
     "execution_count": 191,
     "metadata": {},
     "output_type": "execute_result"
    }
   ],
   "source": [
    "df.head()"
   ]
  },
  {
   "cell_type": "code",
   "execution_count": 193,
   "id": "203a369c",
   "metadata": {},
   "outputs": [],
   "source": [
    "mismatch = df[df[\"issueName\"] != df[\"predictedIssues\"]]"
   ]
  },
  {
   "cell_type": "code",
   "execution_count": 195,
   "id": "8cb37acd",
   "metadata": {},
   "outputs": [
    {
     "data": {
      "text/plain": [
       "(38, 29)"
      ]
     },
     "execution_count": 195,
     "metadata": {},
     "output_type": "execute_result"
    }
   ],
   "source": [
    "mismatch.shape"
   ]
  },
  {
   "cell_type": "code",
   "execution_count": 201,
   "id": "d732abc0",
   "metadata": {},
   "outputs": [
    {
     "name": "stderr",
     "output_type": "stream",
     "text": [
      "/tmp/ipykernel_546/2144932955.py:1: SettingWithCopyWarning: \n",
      "A value is trying to be set on a copy of a slice from a DataFrame\n",
      "\n",
      "See the caveats in the documentation: https://pandas.pydata.org/pandas-docs/stable/user_guide/indexing.html#returning-a-view-versus-a-copy\n",
      "  mismatch.dropna(subset = [\"issueName\"], inplace = True)\n"
     ]
    }
   ],
   "source": [
    "mismatch.dropna(subset = [\"issueName\"], inplace = True)"
   ]
  },
  {
   "cell_type": "code",
   "execution_count": 203,
   "id": "354d54a6",
   "metadata": {},
   "outputs": [
    {
     "data": {
      "text/html": [
       "<div>\n",
       "<style scoped>\n",
       "    .dataframe tbody tr th:only-of-type {\n",
       "        vertical-align: middle;\n",
       "    }\n",
       "\n",
       "    .dataframe tbody tr th {\n",
       "        vertical-align: top;\n",
       "    }\n",
       "\n",
       "    .dataframe thead th {\n",
       "        text-align: right;\n",
       "    }\n",
       "</style>\n",
       "<table border=\"1\" class=\"dataframe\">\n",
       "  <thead>\n",
       "    <tr style=\"text-align: right;\">\n",
       "      <th></th>\n",
       "      <th>text</th>\n",
       "      <th>issueName</th>\n",
       "      <th>predictedIssues</th>\n",
       "    </tr>\n",
       "  </thead>\n",
       "  <tbody>\n",
       "    <tr>\n",
       "      <th>1</th>\n",
       "      <td>use alot of fresh ginger when it strikes your ...</td>\n",
       "      <td>COVID-19</td>\n",
       "      <td>Measles</td>\n",
       "    </tr>\n",
       "    <tr>\n",
       "      <th>2</th>\n",
       "      <td>vaccine kills government pushed a unapproved v...</td>\n",
       "      <td>COVID-19</td>\n",
       "      <td>Polio</td>\n",
       "    </tr>\n",
       "    <tr>\n",
       "      <th>3</th>\n",
       "      <td>reminder  share share share  stop medical col...</td>\n",
       "      <td>COVID-19</td>\n",
       "      <td>Cholera</td>\n",
       "    </tr>\n",
       "    <tr>\n",
       "      <th>7</th>\n",
       "      <td>des bébés allaités par des mères qui ont reçu ...</td>\n",
       "      <td>COVID-19</td>\n",
       "      <td>NaN</td>\n",
       "    </tr>\n",
       "    <tr>\n",
       "      <th>16</th>\n",
       "      <td>the difference between europe and africa</td>\n",
       "      <td>COVID-19</td>\n",
       "      <td>NaN</td>\n",
       "    </tr>\n",
       "    <tr>\n",
       "      <th>18</th>\n",
       "      <td>a sense of concern has taken over the fans as ...</td>\n",
       "      <td>COVID-19</td>\n",
       "      <td>NaN</td>\n",
       "    </tr>\n",
       "    <tr>\n",
       "      <th>19</th>\n",
       "      <td>so they want to bring down museveni for opposi...</td>\n",
       "      <td>COVID-19</td>\n",
       "      <td>NaN</td>\n",
       "    </tr>\n",
       "    <tr>\n",
       "      <th>39</th>\n",
       "      <td>healing for various illnesses and diseases of ...</td>\n",
       "      <td>Cholera</td>\n",
       "      <td>NaN</td>\n",
       "    </tr>\n",
       "    <tr>\n",
       "      <th>40</th>\n",
       "      <td>yes ooo is all about mera herbal cleanser cont...</td>\n",
       "      <td>Malaria</td>\n",
       "      <td>NaN</td>\n",
       "    </tr>\n",
       "    <tr>\n",
       "      <th>41</th>\n",
       "      <td>the us now wants to finish him because he reje...</td>\n",
       "      <td>COVID-19</td>\n",
       "      <td>NaN</td>\n",
       "    </tr>\n",
       "    <tr>\n",
       "      <th>43</th>\n",
       "      <td>that the mrna injections reduced immunity sign...</td>\n",
       "      <td>COVID-19</td>\n",
       "      <td>NaN</td>\n",
       "    </tr>\n",
       "    <tr>\n",
       "      <th>49</th>\n",
       "      <td>in a statement the world health organization w...</td>\n",
       "      <td>Ebola</td>\n",
       "      <td>NaN</td>\n",
       "    </tr>\n",
       "    <tr>\n",
       "      <th>57</th>\n",
       "      <td>ill never ever forgive big pharma the who our ...</td>\n",
       "      <td>COVID-19</td>\n",
       "      <td>Polio</td>\n",
       "    </tr>\n",
       "    <tr>\n",
       "      <th>61</th>\n",
       "      <td>twelve infants perish in clinical trial for rs...</td>\n",
       "      <td>COVID-19</td>\n",
       "      <td>NaN</td>\n",
       "    </tr>\n",
       "  </tbody>\n",
       "</table>\n",
       "</div>"
      ],
      "text/plain": [
       "                                                 text issueName  \\\n",
       "1   use alot of fresh ginger when it strikes your ...  COVID-19   \n",
       "2   vaccine kills government pushed a unapproved v...  COVID-19   \n",
       "3    reminder  share share share  stop medical col...  COVID-19   \n",
       "7   des bébés allaités par des mères qui ont reçu ...  COVID-19   \n",
       "16           the difference between europe and africa  COVID-19   \n",
       "18  a sense of concern has taken over the fans as ...  COVID-19   \n",
       "19  so they want to bring down museveni for opposi...  COVID-19   \n",
       "39  healing for various illnesses and diseases of ...   Cholera   \n",
       "40  yes ooo is all about mera herbal cleanser cont...   Malaria   \n",
       "41  the us now wants to finish him because he reje...  COVID-19   \n",
       "43  that the mrna injections reduced immunity sign...  COVID-19   \n",
       "49  in a statement the world health organization w...     Ebola   \n",
       "57  ill never ever forgive big pharma the who our ...  COVID-19   \n",
       "61  twelve infants perish in clinical trial for rs...  COVID-19   \n",
       "\n",
       "   predictedIssues  \n",
       "1          Measles  \n",
       "2            Polio  \n",
       "3          Cholera  \n",
       "7              NaN  \n",
       "16             NaN  \n",
       "18             NaN  \n",
       "19             NaN  \n",
       "39             NaN  \n",
       "40             NaN  \n",
       "41             NaN  \n",
       "43             NaN  \n",
       "49             NaN  \n",
       "57           Polio  \n",
       "61             NaN  "
      ]
     },
     "execution_count": 203,
     "metadata": {},
     "output_type": "execute_result"
    }
   ],
   "source": [
    "mismatch[[\"text\", \"issueName\", \"predictedIssues\"]]"
   ]
  },
  {
   "cell_type": "code",
   "execution_count": 204,
   "id": "28b5e838",
   "metadata": {},
   "outputs": [],
   "source": [
    "mismatch.to_csv(\"mismatch_issues.csv\", index = False)"
   ]
  },
  {
   "cell_type": "code",
   "execution_count": null,
   "id": "f7194dd9",
   "metadata": {},
   "outputs": [],
   "source": []
  }
 ],
 "metadata": {
  "kernelspec": {
   "display_name": "Python 3 (ipykernel)",
   "language": "python",
   "name": "python3"
  },
  "language_info": {
   "codemirror_mode": {
    "name": "ipython",
    "version": 3
   },
   "file_extension": ".py",
   "mimetype": "text/x-python",
   "name": "python",
   "nbconvert_exporter": "python",
   "pygments_lexer": "ipython3",
   "version": "3.8.8"
  }
 },
 "nbformat": 4,
 "nbformat_minor": 5
}
